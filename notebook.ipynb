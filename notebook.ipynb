{
 "cells": [
  {
   "cell_type": "code",
   "execution_count": 1,
   "metadata": {},
   "outputs": [],
   "source": [
    "import pandas as pd"
   ]
  },
  {
   "cell_type": "code",
   "execution_count": 2,
   "metadata": {},
   "outputs": [],
   "source": [
    "df = pd.read_csv('data/labels.csv')"
   ]
  },
  {
   "cell_type": "code",
   "execution_count": 3,
   "metadata": {},
   "outputs": [
    {
     "data": {
      "text/plain": [
       "mapped_label\n",
       "Verse           2825\n",
       "Chorus          2541\n",
       "Silence         2399\n",
       "Other           2138\n",
       "Solo            1665\n",
       "End             1359\n",
       "Intro           1117\n",
       "Theme            736\n",
       "Interlude        712\n",
       "Outro            688\n",
       "Instrumental     453\n",
       "Transition       418\n",
       "Bridge           415\n",
       "Head             352\n",
       "Pre-chorus       284\n",
       "Coda             220\n",
       "Fade-out         154\n",
       "Pre-verse         54\n",
       "Post-chorus       51\n",
       "dtype: int64"
      ]
     },
     "execution_count": 3,
     "metadata": {},
     "output_type": "execute_result"
    }
   ],
   "source": [
    "df.groupby('mapped_label').size().sort_values(ascending=False)"
   ]
  },
  {
   "cell_type": "code",
   "execution_count": 4,
   "metadata": {},
   "outputs": [],
   "source": [
    "df2 = pd.read_csv('data/downloaded_audio_labels.csv')"
   ]
  },
  {
   "cell_type": "code",
   "execution_count": 6,
   "metadata": {},
   "outputs": [],
   "source": [
    "from python.utils import assign_label_group\n"
   ]
  },
  {
   "cell_type": "code",
   "execution_count": 7,
   "metadata": {},
   "outputs": [],
   "source": [
    "df2['mapped_label'] = df2['label'].apply(assign_label_group)\n",
    "df2.to_csv('data/downloaded_audio_labels.csv', index=False)"
   ]
  },
  {
   "cell_type": "code",
   "execution_count": 8,
   "metadata": {},
   "outputs": [
    {
     "data": {
      "text/plain": [
       "mapped_label\n",
       "Verse           945\n",
       "Silence         937\n",
       "Chorus          832\n",
       "Other           722\n",
       "End             517\n",
       "Solo            511\n",
       "Intro           413\n",
       "Theme           406\n",
       "Outro           283\n",
       "Interlude       187\n",
       "Transition      167\n",
       "Head            164\n",
       "Bridge          138\n",
       "Fade-out         93\n",
       "Pre-chorus       90\n",
       "Instrumental     86\n",
       "Coda             62\n",
       "Pre-verse        35\n",
       "Post-chorus      12\n",
       "dtype: int64"
      ]
     },
     "execution_count": 8,
     "metadata": {},
     "output_type": "execute_result"
    }
   ],
   "source": [
    "df2.groupby('mapped_label').size().sort_values(ascending=False)"
   ]
  },
  {
   "cell_type": "code",
   "execution_count": 9,
   "metadata": {},
   "outputs": [
    {
     "data": {
      "text/plain": [
       "label\n",
       "no_function    663\n",
       "break           10\n",
       "voice            7\n",
       "spoken           7\n",
       "Development      6\n",
       "out              4\n",
       "applause         4\n",
       "third            4\n",
       "guitar           3\n",
       "Recap            3\n",
       "variation_2      2\n",
       "count-in         1\n",
       "gypsy            1\n",
       "hammond          1\n",
       "backing          1\n",
       "pick-up          1\n",
       "steel            1\n",
       "variation_1      1\n",
       "vocals           1\n",
       "organ            1\n",
       "dtype: int64"
      ]
     },
     "execution_count": 9,
     "metadata": {},
     "output_type": "execute_result"
    }
   ],
   "source": [
    "df2[df2['mapped_label'] == 'Other'].groupby('label').size().sort_values(ascending=False)"
   ]
  },
  {
   "cell_type": "code",
   "execution_count": 10,
   "metadata": {},
   "outputs": [
    {
     "data": {
      "text/html": [
       "<div>\n",
       "<style scoped>\n",
       "    .dataframe tbody tr th:only-of-type {\n",
       "        vertical-align: middle;\n",
       "    }\n",
       "\n",
       "    .dataframe tbody tr th {\n",
       "        vertical-align: top;\n",
       "    }\n",
       "\n",
       "    .dataframe thead th {\n",
       "        text-align: right;\n",
       "    }\n",
       "</style>\n",
       "<table border=\"1\" class=\"dataframe\">\n",
       "  <thead>\n",
       "    <tr style=\"text-align: right;\">\n",
       "      <th></th>\n",
       "      <th>song_id</th>\n",
       "      <th>timestamp</th>\n",
       "      <th>label</th>\n",
       "      <th>mapped_label_Bridge</th>\n",
       "      <th>mapped_label_Chorus</th>\n",
       "      <th>mapped_label_Coda</th>\n",
       "      <th>mapped_label_End</th>\n",
       "      <th>mapped_label_Fade-out</th>\n",
       "      <th>mapped_label_Head</th>\n",
       "      <th>mapped_label_Instrumental</th>\n",
       "      <th>...</th>\n",
       "      <th>mapped_label_Other</th>\n",
       "      <th>mapped_label_Outro</th>\n",
       "      <th>mapped_label_Post-chorus</th>\n",
       "      <th>mapped_label_Pre-chorus</th>\n",
       "      <th>mapped_label_Pre-verse</th>\n",
       "      <th>mapped_label_Silence</th>\n",
       "      <th>mapped_label_Solo</th>\n",
       "      <th>mapped_label_Theme</th>\n",
       "      <th>mapped_label_Transition</th>\n",
       "      <th>mapped_label_Verse</th>\n",
       "    </tr>\n",
       "  </thead>\n",
       "  <tbody>\n",
       "    <tr>\n",
       "      <th>0</th>\n",
       "      <td>2</td>\n",
       "      <td>0.000000</td>\n",
       "      <td>Silence</td>\n",
       "      <td>0</td>\n",
       "      <td>0</td>\n",
       "      <td>0</td>\n",
       "      <td>0</td>\n",
       "      <td>0</td>\n",
       "      <td>0</td>\n",
       "      <td>0</td>\n",
       "      <td>...</td>\n",
       "      <td>0</td>\n",
       "      <td>0</td>\n",
       "      <td>0</td>\n",
       "      <td>0</td>\n",
       "      <td>0</td>\n",
       "      <td>1</td>\n",
       "      <td>0</td>\n",
       "      <td>0</td>\n",
       "      <td>0</td>\n",
       "      <td>0</td>\n",
       "    </tr>\n",
       "    <tr>\n",
       "      <th>1</th>\n",
       "      <td>2</td>\n",
       "      <td>0.464399</td>\n",
       "      <td>Intro</td>\n",
       "      <td>0</td>\n",
       "      <td>0</td>\n",
       "      <td>0</td>\n",
       "      <td>0</td>\n",
       "      <td>0</td>\n",
       "      <td>0</td>\n",
       "      <td>0</td>\n",
       "      <td>...</td>\n",
       "      <td>0</td>\n",
       "      <td>0</td>\n",
       "      <td>0</td>\n",
       "      <td>0</td>\n",
       "      <td>0</td>\n",
       "      <td>0</td>\n",
       "      <td>0</td>\n",
       "      <td>0</td>\n",
       "      <td>0</td>\n",
       "      <td>0</td>\n",
       "    </tr>\n",
       "    <tr>\n",
       "      <th>2</th>\n",
       "      <td>2</td>\n",
       "      <td>14.379864</td>\n",
       "      <td>no_function</td>\n",
       "      <td>0</td>\n",
       "      <td>0</td>\n",
       "      <td>0</td>\n",
       "      <td>0</td>\n",
       "      <td>0</td>\n",
       "      <td>0</td>\n",
       "      <td>0</td>\n",
       "      <td>...</td>\n",
       "      <td>1</td>\n",
       "      <td>0</td>\n",
       "      <td>0</td>\n",
       "      <td>0</td>\n",
       "      <td>0</td>\n",
       "      <td>0</td>\n",
       "      <td>0</td>\n",
       "      <td>0</td>\n",
       "      <td>0</td>\n",
       "      <td>0</td>\n",
       "    </tr>\n",
       "    <tr>\n",
       "      <th>3</th>\n",
       "      <td>2</td>\n",
       "      <td>23.986213</td>\n",
       "      <td>no_function</td>\n",
       "      <td>0</td>\n",
       "      <td>0</td>\n",
       "      <td>0</td>\n",
       "      <td>0</td>\n",
       "      <td>0</td>\n",
       "      <td>0</td>\n",
       "      <td>0</td>\n",
       "      <td>...</td>\n",
       "      <td>1</td>\n",
       "      <td>0</td>\n",
       "      <td>0</td>\n",
       "      <td>0</td>\n",
       "      <td>0</td>\n",
       "      <td>0</td>\n",
       "      <td>0</td>\n",
       "      <td>0</td>\n",
       "      <td>0</td>\n",
       "      <td>0</td>\n",
       "    </tr>\n",
       "    <tr>\n",
       "      <th>4</th>\n",
       "      <td>2</td>\n",
       "      <td>33.622494</td>\n",
       "      <td>Verse</td>\n",
       "      <td>0</td>\n",
       "      <td>0</td>\n",
       "      <td>0</td>\n",
       "      <td>0</td>\n",
       "      <td>0</td>\n",
       "      <td>0</td>\n",
       "      <td>0</td>\n",
       "      <td>...</td>\n",
       "      <td>0</td>\n",
       "      <td>0</td>\n",
       "      <td>0</td>\n",
       "      <td>0</td>\n",
       "      <td>0</td>\n",
       "      <td>0</td>\n",
       "      <td>0</td>\n",
       "      <td>0</td>\n",
       "      <td>0</td>\n",
       "      <td>1</td>\n",
       "    </tr>\n",
       "  </tbody>\n",
       "</table>\n",
       "<p>5 rows × 22 columns</p>\n",
       "</div>"
      ],
      "text/plain": [
       "   song_id  timestamp        label  mapped_label_Bridge  mapped_label_Chorus  \\\n",
       "0        2   0.000000      Silence                    0                    0   \n",
       "1        2   0.464399        Intro                    0                    0   \n",
       "2        2  14.379864  no_function                    0                    0   \n",
       "3        2  23.986213  no_function                    0                    0   \n",
       "4        2  33.622494        Verse                    0                    0   \n",
       "\n",
       "   mapped_label_Coda  mapped_label_End  mapped_label_Fade-out  \\\n",
       "0                  0                 0                      0   \n",
       "1                  0                 0                      0   \n",
       "2                  0                 0                      0   \n",
       "3                  0                 0                      0   \n",
       "4                  0                 0                      0   \n",
       "\n",
       "   mapped_label_Head  mapped_label_Instrumental  ...  mapped_label_Other  \\\n",
       "0                  0                          0  ...                   0   \n",
       "1                  0                          0  ...                   0   \n",
       "2                  0                          0  ...                   1   \n",
       "3                  0                          0  ...                   1   \n",
       "4                  0                          0  ...                   0   \n",
       "\n",
       "   mapped_label_Outro  mapped_label_Post-chorus  mapped_label_Pre-chorus  \\\n",
       "0                   0                         0                        0   \n",
       "1                   0                         0                        0   \n",
       "2                   0                         0                        0   \n",
       "3                   0                         0                        0   \n",
       "4                   0                         0                        0   \n",
       "\n",
       "   mapped_label_Pre-verse  mapped_label_Silence  mapped_label_Solo  \\\n",
       "0                       0                     1                  0   \n",
       "1                       0                     0                  0   \n",
       "2                       0                     0                  0   \n",
       "3                       0                     0                  0   \n",
       "4                       0                     0                  0   \n",
       "\n",
       "   mapped_label_Theme  mapped_label_Transition  mapped_label_Verse  \n",
       "0                   0                        0                   0  \n",
       "1                   0                        0                   0  \n",
       "2                   0                        0                   0  \n",
       "3                   0                        0                   0  \n",
       "4                   0                        0                   1  \n",
       "\n",
       "[5 rows x 22 columns]"
      ]
     },
     "execution_count": 10,
     "metadata": {},
     "output_type": "execute_result"
    }
   ],
   "source": [
    "one_hot_encoded_data = pd.get_dummies(df, columns=['mapped_label'])\n",
    "one_hot_encoded_data.head()"
   ]
  },
  {
   "cell_type": "code",
   "execution_count": 11,
   "metadata": {},
   "outputs": [
    {
     "data": {
      "text/html": [
       "<div>\n",
       "<style scoped>\n",
       "    .dataframe tbody tr th:only-of-type {\n",
       "        vertical-align: middle;\n",
       "    }\n",
       "\n",
       "    .dataframe tbody tr th {\n",
       "        vertical-align: top;\n",
       "    }\n",
       "\n",
       "    .dataframe thead th {\n",
       "        text-align: right;\n",
       "    }\n",
       "</style>\n",
       "<table border=\"1\" class=\"dataframe\">\n",
       "  <thead>\n",
       "    <tr style=\"text-align: right;\">\n",
       "      <th></th>\n",
       "      <th>song_id</th>\n",
       "      <th>timestamp</th>\n",
       "      <th>label</th>\n",
       "      <th>mapped_label</th>\n",
       "      <th>mapped_label_Chorus</th>\n",
       "      <th>mapped_label_Coda</th>\n",
       "      <th>mapped_label_End</th>\n",
       "      <th>mapped_label_Fade-out</th>\n",
       "      <th>mapped_label_Head</th>\n",
       "      <th>mapped_label_Instrumental</th>\n",
       "      <th>...</th>\n",
       "      <th>mapped_label_Other</th>\n",
       "      <th>mapped_label_Outro</th>\n",
       "      <th>mapped_label_Post-chorus</th>\n",
       "      <th>mapped_label_Pre-chorus</th>\n",
       "      <th>mapped_label_Pre-verse</th>\n",
       "      <th>mapped_label_Silence</th>\n",
       "      <th>mapped_label_Solo</th>\n",
       "      <th>mapped_label_Theme</th>\n",
       "      <th>mapped_label_Transition</th>\n",
       "      <th>mapped_label_Verse</th>\n",
       "    </tr>\n",
       "  </thead>\n",
       "  <tbody>\n",
       "    <tr>\n",
       "      <th>0</th>\n",
       "      <td>752</td>\n",
       "      <td>0.000000</td>\n",
       "      <td>Silence</td>\n",
       "      <td>Silence</td>\n",
       "      <td>0.0</td>\n",
       "      <td>0.0</td>\n",
       "      <td>0.0</td>\n",
       "      <td>0.0</td>\n",
       "      <td>0.0</td>\n",
       "      <td>0.0</td>\n",
       "      <td>...</td>\n",
       "      <td>0.0</td>\n",
       "      <td>0.0</td>\n",
       "      <td>0.0</td>\n",
       "      <td>0.0</td>\n",
       "      <td>0.0</td>\n",
       "      <td>1.0</td>\n",
       "      <td>0.0</td>\n",
       "      <td>0.0</td>\n",
       "      <td>0.0</td>\n",
       "      <td>0.0</td>\n",
       "    </tr>\n",
       "    <tr>\n",
       "      <th>1</th>\n",
       "      <td>752</td>\n",
       "      <td>0.139320</td>\n",
       "      <td>Intro</td>\n",
       "      <td>Intro</td>\n",
       "      <td>0.0</td>\n",
       "      <td>0.0</td>\n",
       "      <td>0.0</td>\n",
       "      <td>0.0</td>\n",
       "      <td>0.0</td>\n",
       "      <td>0.0</td>\n",
       "      <td>...</td>\n",
       "      <td>0.0</td>\n",
       "      <td>0.0</td>\n",
       "      <td>0.0</td>\n",
       "      <td>0.0</td>\n",
       "      <td>0.0</td>\n",
       "      <td>0.0</td>\n",
       "      <td>0.0</td>\n",
       "      <td>0.0</td>\n",
       "      <td>0.0</td>\n",
       "      <td>0.0</td>\n",
       "    </tr>\n",
       "    <tr>\n",
       "      <th>2</th>\n",
       "      <td>752</td>\n",
       "      <td>21.083061</td>\n",
       "      <td>Head</td>\n",
       "      <td>Head</td>\n",
       "      <td>0.0</td>\n",
       "      <td>0.0</td>\n",
       "      <td>0.0</td>\n",
       "      <td>0.0</td>\n",
       "      <td>1.0</td>\n",
       "      <td>0.0</td>\n",
       "      <td>...</td>\n",
       "      <td>0.0</td>\n",
       "      <td>0.0</td>\n",
       "      <td>0.0</td>\n",
       "      <td>0.0</td>\n",
       "      <td>0.0</td>\n",
       "      <td>0.0</td>\n",
       "      <td>0.0</td>\n",
       "      <td>0.0</td>\n",
       "      <td>0.0</td>\n",
       "      <td>0.0</td>\n",
       "    </tr>\n",
       "    <tr>\n",
       "      <th>3</th>\n",
       "      <td>752</td>\n",
       "      <td>47.113288</td>\n",
       "      <td>Transition</td>\n",
       "      <td>Transition</td>\n",
       "      <td>0.0</td>\n",
       "      <td>0.0</td>\n",
       "      <td>0.0</td>\n",
       "      <td>0.0</td>\n",
       "      <td>0.0</td>\n",
       "      <td>0.0</td>\n",
       "      <td>...</td>\n",
       "      <td>0.0</td>\n",
       "      <td>0.0</td>\n",
       "      <td>0.0</td>\n",
       "      <td>0.0</td>\n",
       "      <td>0.0</td>\n",
       "      <td>0.0</td>\n",
       "      <td>0.0</td>\n",
       "      <td>0.0</td>\n",
       "      <td>1.0</td>\n",
       "      <td>0.0</td>\n",
       "    </tr>\n",
       "    <tr>\n",
       "      <th>4</th>\n",
       "      <td>752</td>\n",
       "      <td>67.964807</td>\n",
       "      <td>Head</td>\n",
       "      <td>Head</td>\n",
       "      <td>0.0</td>\n",
       "      <td>0.0</td>\n",
       "      <td>0.0</td>\n",
       "      <td>0.0</td>\n",
       "      <td>1.0</td>\n",
       "      <td>0.0</td>\n",
       "      <td>...</td>\n",
       "      <td>0.0</td>\n",
       "      <td>0.0</td>\n",
       "      <td>0.0</td>\n",
       "      <td>0.0</td>\n",
       "      <td>0.0</td>\n",
       "      <td>0.0</td>\n",
       "      <td>0.0</td>\n",
       "      <td>0.0</td>\n",
       "      <td>0.0</td>\n",
       "      <td>0.0</td>\n",
       "    </tr>\n",
       "  </tbody>\n",
       "</table>\n",
       "<p>5 rows × 22 columns</p>\n",
       "</div>"
      ],
      "text/plain": [
       "   song_id  timestamp       label mapped_label  mapped_label_Chorus  \\\n",
       "0      752   0.000000     Silence      Silence                  0.0   \n",
       "1      752   0.139320       Intro        Intro                  0.0   \n",
       "2      752  21.083061        Head         Head                  0.0   \n",
       "3      752  47.113288  Transition   Transition                  0.0   \n",
       "4      752  67.964807        Head         Head                  0.0   \n",
       "\n",
       "   mapped_label_Coda  mapped_label_End  mapped_label_Fade-out  \\\n",
       "0                0.0               0.0                    0.0   \n",
       "1                0.0               0.0                    0.0   \n",
       "2                0.0               0.0                    0.0   \n",
       "3                0.0               0.0                    0.0   \n",
       "4                0.0               0.0                    0.0   \n",
       "\n",
       "   mapped_label_Head  mapped_label_Instrumental  ...  mapped_label_Other  \\\n",
       "0                0.0                        0.0  ...                 0.0   \n",
       "1                0.0                        0.0  ...                 0.0   \n",
       "2                1.0                        0.0  ...                 0.0   \n",
       "3                0.0                        0.0  ...                 0.0   \n",
       "4                1.0                        0.0  ...                 0.0   \n",
       "\n",
       "   mapped_label_Outro  mapped_label_Post-chorus  mapped_label_Pre-chorus  \\\n",
       "0                 0.0                       0.0                      0.0   \n",
       "1                 0.0                       0.0                      0.0   \n",
       "2                 0.0                       0.0                      0.0   \n",
       "3                 0.0                       0.0                      0.0   \n",
       "4                 0.0                       0.0                      0.0   \n",
       "\n",
       "   mapped_label_Pre-verse  mapped_label_Silence  mapped_label_Solo  \\\n",
       "0                     0.0                   1.0                0.0   \n",
       "1                     0.0                   0.0                0.0   \n",
       "2                     0.0                   0.0                0.0   \n",
       "3                     0.0                   0.0                0.0   \n",
       "4                     0.0                   0.0                0.0   \n",
       "\n",
       "   mapped_label_Theme  mapped_label_Transition  mapped_label_Verse  \n",
       "0                 0.0                      0.0                 0.0  \n",
       "1                 0.0                      0.0                 0.0  \n",
       "2                 0.0                      0.0                 0.0  \n",
       "3                 0.0                      1.0                 0.0  \n",
       "4                 0.0                      0.0                 0.0  \n",
       "\n",
       "[5 rows x 22 columns]"
      ]
     },
     "execution_count": 11,
     "metadata": {},
     "output_type": "execute_result"
    }
   ],
   "source": [
    "from sklearn.preprocessing import OneHotEncoder\n",
    "\n",
    "# Assuming df is your DataFrame\n",
    "\n",
    "# 1. Initialize the OneHotEncoder\n",
    "encoder = OneHotEncoder(sparse=False, drop='first')  # Setting sparse to False returns a numpy array\n",
    "\n",
    "# 2. Fit the encoder on the 'mapped_label' column of the training data\n",
    "encoder.fit(df2[['mapped_label']])\n",
    "\n",
    "# 3. Transform the 'mapped_label' column\n",
    "encoded_data = encoder.transform(df2[['mapped_label']])\n",
    "\n",
    "# Convert the numpy array to a DataFrame for easy visualization and manipulation\n",
    "encoded_df2 = pd.DataFrame(encoded_data, columns=encoder.get_feature_names_out(['mapped_label']))\n",
    "\n",
    "# If you want to join this back to your original df (without 'mapped_label' column):\n",
    "# df = df.drop(columns=['mapped_label']).reset_index(drop=True)\n",
    "one_hot_encoded_data = pd.concat([df2, encoded_df2], axis=1)\n",
    "\n",
    "one_hot_encoded_data.head()"
   ]
  },
  {
   "cell_type": "code",
   "execution_count": 12,
   "metadata": {},
   "outputs": [],
   "source": [
    "one_hot_encoded_data = one_hot_encoded_data.drop(columns=['mapped_label', 'label'])"
   ]
  },
  {
   "cell_type": "code",
   "execution_count": 13,
   "metadata": {},
   "outputs": [],
   "source": [
    "one_hot_encoded_data.to_csv('data/one_hot_encoded_data.csv')"
   ]
  },
  {
   "cell_type": "code",
   "execution_count": 28,
   "metadata": {},
   "outputs": [
    {
     "name": "stdout",
     "output_type": "stream",
     "text": [
      "<class 'pandas.core.frame.DataFrame'>\n",
      "RangeIndex: 6600 entries, 0 to 6599\n",
      "Data columns (total 20 columns):\n",
      " #   Column                     Non-Null Count  Dtype  \n",
      "---  ------                     --------------  -----  \n",
      " 0   song_id                    6600 non-null   int64  \n",
      " 1   timestamp                  6600 non-null   float64\n",
      " 2   mapped_label_Chorus        6600 non-null   float64\n",
      " 3   mapped_label_Coda          6600 non-null   float64\n",
      " 4   mapped_label_End           6600 non-null   float64\n",
      " 5   mapped_label_Fade-out      6600 non-null   float64\n",
      " 6   mapped_label_Head          6600 non-null   float64\n",
      " 7   mapped_label_Instrumental  6600 non-null   float64\n",
      " 8   mapped_label_Interlude     6600 non-null   float64\n",
      " 9   mapped_label_Intro         6600 non-null   float64\n",
      " 10  mapped_label_Other         6600 non-null   float64\n",
      " 11  mapped_label_Outro         6600 non-null   float64\n",
      " 12  mapped_label_Post-chorus   6600 non-null   float64\n",
      " 13  mapped_label_Pre-chorus    6600 non-null   float64\n",
      " 14  mapped_label_Pre-verse     6600 non-null   float64\n",
      " 15  mapped_label_Silence       6600 non-null   float64\n",
      " 16  mapped_label_Solo          6600 non-null   float64\n",
      " 17  mapped_label_Theme         6600 non-null   float64\n",
      " 18  mapped_label_Transition    6600 non-null   float64\n",
      " 19  mapped_label_Verse         6600 non-null   float64\n",
      "dtypes: float64(19), int64(1)\n",
      "memory usage: 1.0 MB\n"
     ]
    }
   ],
   "source": [
    "one_hot_encoded_data.info()"
   ]
  },
  {
   "cell_type": "code",
   "execution_count": 14,
   "metadata": {},
   "outputs": [],
   "source": [
    "endpoints_df = one_hot_encoded_data.copy()"
   ]
  },
  {
   "cell_type": "code",
   "execution_count": 24,
   "metadata": {},
   "outputs": [],
   "source": []
  },
  {
   "cell_type": "code",
   "execution_count": 29,
   "metadata": {},
   "outputs": [],
   "source": [
    "endpoints_df['end_timestamp'] = endpoints_df.groupby('song_id')['timestamp'].shift(-1)"
   ]
  },
  {
   "cell_type": "code",
   "execution_count": 30,
   "metadata": {},
   "outputs": [],
   "source": [
    "endpoints_df = endpoints_df.rename(columns={'timestamp': 'start_timestamp'})"
   ]
  },
  {
   "cell_type": "code",
   "execution_count": 36,
   "metadata": {},
   "outputs": [
    {
     "name": "stdout",
     "output_type": "stream",
     "text": [
      "<class 'pandas.core.frame.DataFrame'>\n",
      "RangeIndex: 6600 entries, 0 to 6599\n",
      "Data columns (total 21 columns):\n",
      " #   Column                     Non-Null Count  Dtype  \n",
      "---  ------                     --------------  -----  \n",
      " 0   song_id                    6600 non-null   int64  \n",
      " 1   start_timestamp            6600 non-null   float64\n",
      " 2   mapped_label_Chorus        6600 non-null   float64\n",
      " 3   mapped_label_Coda          6600 non-null   float64\n",
      " 4   mapped_label_End           6600 non-null   float64\n",
      " 5   mapped_label_Fade-out      6600 non-null   float64\n",
      " 6   mapped_label_Head          6600 non-null   float64\n",
      " 7   mapped_label_Instrumental  6600 non-null   float64\n",
      " 8   mapped_label_Interlude     6600 non-null   float64\n",
      " 9   mapped_label_Intro         6600 non-null   float64\n",
      " 10  mapped_label_Other         6600 non-null   float64\n",
      " 11  mapped_label_Outro         6600 non-null   float64\n",
      " 12  mapped_label_Post-chorus   6600 non-null   float64\n",
      " 13  mapped_label_Pre-chorus    6600 non-null   float64\n",
      " 14  mapped_label_Pre-verse     6600 non-null   float64\n",
      " 15  mapped_label_Silence       6600 non-null   float64\n",
      " 16  mapped_label_Solo          6600 non-null   float64\n",
      " 17  mapped_label_Theme         6600 non-null   float64\n",
      " 18  mapped_label_Transition    6600 non-null   float64\n",
      " 19  mapped_label_Verse         6600 non-null   float64\n",
      " 20  end_timestamp              6083 non-null   float64\n",
      "dtypes: float64(20), int64(1)\n",
      "memory usage: 1.1 MB\n"
     ]
    }
   ],
   "source": [
    "endpoints_df.info()\n",
    "endpoints_df.to_csv('data/start_and_end.csv', index=False)"
   ]
  },
  {
   "cell_type": "code",
   "execution_count": 33,
   "metadata": {},
   "outputs": [],
   "source": [
    "salami_metadata = pd.read_csv('data/salami-data-public/metadata/metadata.csv')\n"
   ]
  },
  {
   "cell_type": "code",
   "execution_count": 34,
   "metadata": {},
   "outputs": [
    {
     "name": "stdout",
     "output_type": "stream",
     "text": [
      "<class 'pandas.core.frame.DataFrame'>\n",
      "RangeIndex: 1446 entries, 0 to 1445\n",
      "Data columns (total 22 columns):\n",
      " #   Column                   Non-Null Count  Dtype  \n",
      "---  ------                   --------------  -----  \n",
      " 0   SONG_ID                  1446 non-null   int64  \n",
      " 1   SOURCE                   1446 non-null   object \n",
      " 2   ANNOTATOR1               1446 non-null   int64  \n",
      " 3   ANNOTATOR2               1446 non-null   int64  \n",
      " 4   FILE_LOCATION            1446 non-null   object \n",
      " 5   SONG_DURATION            1310 non-null   float64\n",
      " 6   EMPTY                    0 non-null      float64\n",
      " 7   SONG_TITLE               1446 non-null   object \n",
      " 8   ARTIST                   1446 non-null   object \n",
      " 9   FORMAT                   1446 non-null   object \n",
      " 10  ANNOTATION_TIME1         1423 non-null   float64\n",
      " 11  ANNOTATION_TIME2         980 non-null    float64\n",
      " 12  TEXTFILE1                1349 non-null   object \n",
      " 13  TEXTFILE2                905 non-null    object \n",
      " 14  CLASS                    1446 non-null   object \n",
      " 15  GENRE                    833 non-null    object \n",
      " 16  SUBMISSION_DATE1         1427 non-null   object \n",
      " 17  SUBMISSION_DATE2         1083 non-null   object \n",
      " 18  SONG_WAS_PRIVATE_FLAG    1446 non-null   int64  \n",
      " 19  SONG_WAS_DISCARDED_FLAG  1446 non-null   bool   \n",
      " 20  XEQS1                    1446 non-null   object \n",
      " 21  XEQS2                    1446 non-null   object \n",
      "dtypes: bool(1), float64(4), int64(4), object(13)\n",
      "memory usage: 238.8+ KB\n"
     ]
    }
   ],
   "source": [
    "salami_metadata.info()"
   ]
  },
  {
   "cell_type": "code",
   "execution_count": 35,
   "metadata": {},
   "outputs": [
    {
     "name": "stdout",
     "output_type": "stream",
     "text": [
      "<class 'pandas.core.frame.DataFrame'>\n",
      "RangeIndex: 18581 entries, 0 to 18580\n",
      "Data columns (total 5 columns):\n",
      " #   Column         Non-Null Count  Dtype  \n",
      "---  ------         --------------  -----  \n",
      " 0   song_id        18581 non-null  int64  \n",
      " 1   timestamp      18581 non-null  float64\n",
      " 2   label          18581 non-null  object \n",
      " 3   mapped_label   18581 non-null  object \n",
      " 4   end_timestamp  17222 non-null  float64\n",
      "dtypes: float64(2), int64(1), object(2)\n",
      "memory usage: 725.9+ KB\n"
     ]
    }
   ],
   "source": [
    "df.info()"
   ]
  },
  {
   "cell_type": "code",
   "execution_count": 37,
   "metadata": {},
   "outputs": [],
   "source": [
    "start_and_end = pd.read_csv('data/start_and_end.csv')"
   ]
  },
  {
   "cell_type": "code",
   "execution_count": 38,
   "metadata": {},
   "outputs": [
    {
     "name": "stdout",
     "output_type": "stream",
     "text": [
      "<class 'pandas.core.frame.DataFrame'>\n",
      "RangeIndex: 6600 entries, 0 to 6599\n",
      "Data columns (total 22 columns):\n",
      " #   Column                     Non-Null Count  Dtype  \n",
      "---  ------                     --------------  -----  \n",
      " 0   song_id                    6600 non-null   int64  \n",
      " 1   start_timestamp            6600 non-null   float64\n",
      " 2   mapped_label_Chorus        6600 non-null   float64\n",
      " 3   mapped_label_Coda          6600 non-null   float64\n",
      " 4   mapped_label_End           6600 non-null   float64\n",
      " 5   mapped_label_Fade-out      6600 non-null   float64\n",
      " 6   mapped_label_Head          6600 non-null   float64\n",
      " 7   mapped_label_Instrumental  6600 non-null   float64\n",
      " 8   mapped_label_Interlude     6600 non-null   float64\n",
      " 9   mapped_label_Intro         6600 non-null   float64\n",
      " 10  mapped_label_Other         6600 non-null   float64\n",
      " 11  mapped_label_Outro         6600 non-null   float64\n",
      " 12  mapped_label_Post-chorus   6600 non-null   float64\n",
      " 13  mapped_label_Pre-chorus    6600 non-null   float64\n",
      " 14  mapped_label_Pre-verse     6600 non-null   float64\n",
      " 15  mapped_label_Silence       6600 non-null   float64\n",
      " 16  mapped_label_Solo          6600 non-null   float64\n",
      " 17  mapped_label_Theme         6600 non-null   float64\n",
      " 18  mapped_label_Transition    6600 non-null   float64\n",
      " 19  mapped_label_Verse         6600 non-null   float64\n",
      " 20  end_timestamp              6083 non-null   float64\n",
      " 21  song_duration              6189 non-null   float64\n",
      "dtypes: float64(21), int64(1)\n",
      "memory usage: 1.1 MB\n"
     ]
    }
   ],
   "source": [
    "start_and_end.info()"
   ]
  },
  {
   "cell_type": "code",
   "execution_count": 45,
   "metadata": {},
   "outputs": [],
   "source": [
    "start_and_end = start_and_end.dropna(subset=['end_timestamp'])"
   ]
  },
  {
   "cell_type": "code",
   "execution_count": 48,
   "metadata": {},
   "outputs": [],
   "source": [
    "start_and_end = start_and_end.drop('song_duration', axis=1)"
   ]
  },
  {
   "cell_type": "code",
   "execution_count": 50,
   "metadata": {},
   "outputs": [
    {
     "name": "stdout",
     "output_type": "stream",
     "text": [
      "<class 'pandas.core.frame.DataFrame'>\n",
      "Int64Index: 6083 entries, 0 to 6598\n",
      "Data columns (total 21 columns):\n",
      " #   Column                     Non-Null Count  Dtype  \n",
      "---  ------                     --------------  -----  \n",
      " 0   song_id                    6083 non-null   int64  \n",
      " 1   start_timestamp            6083 non-null   float64\n",
      " 2   mapped_label_Chorus        6083 non-null   float64\n",
      " 3   mapped_label_Coda          6083 non-null   float64\n",
      " 4   mapped_label_End           6083 non-null   float64\n",
      " 5   mapped_label_Fade-out      6083 non-null   float64\n",
      " 6   mapped_label_Head          6083 non-null   float64\n",
      " 7   mapped_label_Instrumental  6083 non-null   float64\n",
      " 8   mapped_label_Interlude     6083 non-null   float64\n",
      " 9   mapped_label_Intro         6083 non-null   float64\n",
      " 10  mapped_label_Other         6083 non-null   float64\n",
      " 11  mapped_label_Outro         6083 non-null   float64\n",
      " 12  mapped_label_Post-chorus   6083 non-null   float64\n",
      " 13  mapped_label_Pre-chorus    6083 non-null   float64\n",
      " 14  mapped_label_Pre-verse     6083 non-null   float64\n",
      " 15  mapped_label_Silence       6083 non-null   float64\n",
      " 16  mapped_label_Solo          6083 non-null   float64\n",
      " 17  mapped_label_Theme         6083 non-null   float64\n",
      " 18  mapped_label_Transition    6083 non-null   float64\n",
      " 19  mapped_label_Verse         6083 non-null   float64\n",
      " 20  end_timestamp              6083 non-null   float64\n",
      "dtypes: float64(20), int64(1)\n",
      "memory usage: 1.0 MB\n"
     ]
    }
   ],
   "source": [
    "start_and_end.info()"
   ]
  },
  {
   "cell_type": "code",
   "execution_count": 53,
   "metadata": {},
   "outputs": [
    {
     "data": {
      "text/plain": [
       "mapped_label_Intro\n",
       "0.0    5670\n",
       "1.0     413\n",
       "dtype: int64"
      ]
     },
     "execution_count": 53,
     "metadata": {},
     "output_type": "execute_result"
    }
   ],
   "source": [
    "start_and_end.groupby('mapped_label_Intro').size()"
   ]
  },
  {
   "cell_type": "code",
   "execution_count": 54,
   "metadata": {},
   "outputs": [],
   "source": [
    "start_and_end.to_csv('data/start_and_end.csv', index=False)"
   ]
  },
  {
   "cell_type": "code",
   "execution_count": null,
   "metadata": {},
   "outputs": [],
   "source": []
  }
 ],
 "metadata": {
  "kernelspec": {
   "display_name": "env",
   "language": "python",
   "name": "python3"
  },
  "language_info": {
   "codemirror_mode": {
    "name": "ipython",
    "version": 3
   },
   "file_extension": ".py",
   "mimetype": "text/x-python",
   "name": "python",
   "nbconvert_exporter": "python",
   "pygments_lexer": "ipython3",
   "version": "3.7.13"
  },
  "orig_nbformat": 4
 },
 "nbformat": 4,
 "nbformat_minor": 2
}
